{
 "cells": [
  {
   "cell_type": "code",
   "execution_count": 1,
   "metadata": {},
   "outputs": [
    {
     "data": {
      "text/html": [
       "        <script type=\"text/javascript\">\n",
       "        window.PlotlyConfig = {MathJaxConfig: 'local'};\n",
       "        if (window.MathJax) {MathJax.Hub.Config({SVG: {font: \"STIX-Web\"}});}\n",
       "        if (typeof require !== 'undefined') {\n",
       "        require.undef(\"plotly\");\n",
       "        requirejs.config({\n",
       "            paths: {\n",
       "                'plotly': ['https://cdn.plot.ly/plotly-latest.min']\n",
       "            }\n",
       "        });\n",
       "        require(['plotly'], function(Plotly) {\n",
       "            window._Plotly = Plotly;\n",
       "        });\n",
       "        }\n",
       "        </script>\n",
       "        "
      ]
     },
     "metadata": {},
     "output_type": "display_data"
    },
    {
     "data": {
      "application/vnd.plotly.v1+json": {
       "config": {
        "linkText": "Export to plot.ly",
        "plotlyServerURL": "https://plot.ly",
        "responsive": true,
        "showLink": false
       },
       "data": [
        {
         "marker": {
          "color": [
           23,
           43,
           32
          ],
          "colorscale": "Viridis"
         },
         "type": "bar",
         "uid": "28be8368-a561-4c17-9ac4-b8ce86ab0c49",
         "x": [
          1,
          2,
          3
         ],
         "y": [
          23,
          43,
          32
         ]
        }
       ],
       "layout": {
        "title": {
         "text": "MyAwesomeTitle"
        },
        "xaxis": {
         "rangeslider": {
          "visible": false
         },
         "title": {
          "text": "category"
         }
        },
        "yaxis": {
         "title": {
          "text": "value"
         }
        }
       }
      },
      "text/html": [
       "<div>\n",
       "        \n",
       "        \n",
       "            <div id=\"fc2291b8-7e35-466b-9ce5-701a50dd718e\" class=\"plotly-graph-div\" style=\"height:525px; width:100%;\"></div>\n",
       "            <script type=\"text/javascript\">\n",
       "                require([\"plotly\"], function(Plotly) {\n",
       "                    window.PLOTLYENV=window.PLOTLYENV || {};\n",
       "                    window.PLOTLYENV.BASE_URL='https://plot.ly';\n",
       "                    \n",
       "                if (document.getElementById(\"fc2291b8-7e35-466b-9ce5-701a50dd718e\")) {\n",
       "                    Plotly.newPlot(\n",
       "                        'fc2291b8-7e35-466b-9ce5-701a50dd718e',\n",
       "                        [{\"marker\": {\"color\": [23, 43, 32], \"colorscale\": \"Viridis\"}, \"type\": \"bar\", \"uid\": \"d371b690-f85a-4897-a41e-e6e7260376e2\", \"x\": [1, 2, 3], \"y\": [23, 43, 32]}],\n",
       "                        {\"title\": {\"text\": \"MyAwesomeTitle\"}, \"xaxis\": {\"rangeslider\": {\"visible\": false}, \"title\": {\"text\": \"category\"}}, \"yaxis\": {\"title\": {\"text\": \"value\"}}},\n",
       "                        {\"showLink\": false, \"linkText\": \"Export to plot.ly\", \"plotlyServerURL\": \"https://plot.ly\", \"responsive\": true}\n",
       "                    ).then(function(){\n",
       "                            \n",
       "var gd = document.getElementById('fc2291b8-7e35-466b-9ce5-701a50dd718e');\n",
       "var x = new MutationObserver(function (mutations, observer) {{\n",
       "        var display = window.getComputedStyle(gd).display;\n",
       "        if (!display || display === 'none') {{\n",
       "            console.log([gd, 'removed!']);\n",
       "            Plotly.purge(gd);\n",
       "            observer.disconnect();\n",
       "        }}\n",
       "}});\n",
       "\n",
       "// Listen for the removal of the full notebook cells\n",
       "var notebookContainer = gd.closest('#notebook-container');\n",
       "if (notebookContainer) {{\n",
       "    x.observe(notebookContainer, {childList: true});\n",
       "}}\n",
       "\n",
       "// Listen for the clearing of the current output cell\n",
       "var outputEl = gd.closest('.output');\n",
       "if (outputEl) {{\n",
       "    x.observe(outputEl, {childList: true});\n",
       "}}\n",
       "\n",
       "                        })\n",
       "                };\n",
       "                });\n",
       "            </script>\n",
       "        </div>"
      ]
     },
     "metadata": {},
     "output_type": "display_data"
    }
   ],
   "source": [
    "import lazyplotly as lp\n",
    "\n",
    "# using list data type to fit\n",
    "bar = lp.bar(x=[1,2,3], y=[23,43,32], cmap='Viridis')\n",
    "\n",
    "# add layout in plot function\n",
    "lp.plot(bar,xlabel='category', ylabel='value', title='MyAwesomeTitle')"
   ]
  },
  {
   "cell_type": "code",
   "execution_count": 2,
   "metadata": {},
   "outputs": [
    {
     "data": {
      "application/vnd.plotly.v1+json": {
       "config": {
        "linkText": "Export to plot.ly",
        "plotlyServerURL": "https://plot.ly",
        "responsive": true,
        "showLink": false
       },
       "data": [
        {
         "cumulative": {
          "enabled": true
         },
         "nbinsx": 5,
         "type": "histogram",
         "uid": "0c7d5b56-1e25-41af-9acf-4c1e4525b9de",
         "x": [
          1,
          2,
          2,
          3
         ]
        }
       ],
       "layout": {
        "xaxis": {
         "rangeslider": {
          "visible": false
         }
        }
       }
      },
      "text/html": [
       "<div>\n",
       "        \n",
       "        \n",
       "            <div id=\"87553d59-1a9b-4e87-8c6d-4c5c3cdeaed9\" class=\"plotly-graph-div\" style=\"height:525px; width:100%;\"></div>\n",
       "            <script type=\"text/javascript\">\n",
       "                require([\"plotly\"], function(Plotly) {\n",
       "                    window.PLOTLYENV=window.PLOTLYENV || {};\n",
       "                    window.PLOTLYENV.BASE_URL='https://plot.ly';\n",
       "                    \n",
       "                if (document.getElementById(\"87553d59-1a9b-4e87-8c6d-4c5c3cdeaed9\")) {\n",
       "                    Plotly.newPlot(\n",
       "                        '87553d59-1a9b-4e87-8c6d-4c5c3cdeaed9',\n",
       "                        [{\"cumulative\": {\"enabled\": true}, \"nbinsx\": 5, \"type\": \"histogram\", \"uid\": \"e97f8371-c721-40f9-871a-49d34c8821b2\", \"x\": [1, 2, 2, 3]}],\n",
       "                        {\"xaxis\": {\"rangeslider\": {\"visible\": false}}},\n",
       "                        {\"showLink\": false, \"linkText\": \"Export to plot.ly\", \"plotlyServerURL\": \"https://plot.ly\", \"responsive\": true}\n",
       "                    ).then(function(){\n",
       "                            \n",
       "var gd = document.getElementById('87553d59-1a9b-4e87-8c6d-4c5c3cdeaed9');\n",
       "var x = new MutationObserver(function (mutations, observer) {{\n",
       "        var display = window.getComputedStyle(gd).display;\n",
       "        if (!display || display === 'none') {{\n",
       "            console.log([gd, 'removed!']);\n",
       "            Plotly.purge(gd);\n",
       "            observer.disconnect();\n",
       "        }}\n",
       "}});\n",
       "\n",
       "// Listen for the removal of the full notebook cells\n",
       "var notebookContainer = gd.closest('#notebook-container');\n",
       "if (notebookContainer) {{\n",
       "    x.observe(notebookContainer, {childList: true});\n",
       "}}\n",
       "\n",
       "// Listen for the clearing of the current output cell\n",
       "var outputEl = gd.closest('.output');\n",
       "if (outputEl) {{\n",
       "    x.observe(outputEl, {childList: true});\n",
       "}}\n",
       "\n",
       "                        })\n",
       "                };\n",
       "                });\n",
       "            </script>\n",
       "        </div>"
      ]
     },
     "metadata": {},
     "output_type": "display_data"
    }
   ],
   "source": [
    "lp.plot(lp.histogram(x=[1,2,2,3],cum=True,bins=5))"
   ]
  },
  {
   "cell_type": "code",
   "execution_count": 3,
   "metadata": {},
   "outputs": [
    {
     "data": {
      "text/plain": [
       "'MyPlot.html'"
      ]
     },
     "execution_count": 3,
     "metadata": {},
     "output_type": "execute_result"
    }
   ],
   "source": [
    "# using dataframe object by setting xy variables with column name\n",
    "df = dict(order=[1,2,3,4,5],lower=[21,32,43,54,32],upper=[23,34,50,60,60])\n",
    "area = lp.area(x='order', y='lower', y2='upper', df=df, color='orange')\n",
    "\n",
    "# add output variable to export as a html file\n",
    "lp.plot(\n",
    "    data = area, \n",
    "    rangeslider = True,\n",
    "    layout = dict(title='So Easy Right?'),\n",
    "    config = dict(displayModeBar=True),\n",
    "    output = 'MyPlot.html'\n",
    ")"
   ]
  },
  {
   "cell_type": "code",
   "execution_count": 4,
   "metadata": {},
   "outputs": [
    {
     "data": {
      "application/vnd.plotly.v1+json": {
       "config": {
        "linkText": "Export to plot.ly",
        "plotlyServerURL": "https://plot.ly",
        "responsive": true,
        "showLink": false
       },
       "data": [
        {
         "marker": {
          "color": "#c2185b"
         },
         "name": "season 1",
         "type": "bar",
         "uid": "8bb2780e-74f6-4680-9e91-46007dc09af5",
         "x": [
          1,
          2,
          3,
          4,
          5
         ],
         "xaxis": "x",
         "y": [
          21,
          32,
          43,
          54,
          32
         ],
         "yaxis": "y"
        },
        {
         "marker": {
          "color": "#0097a7"
         },
         "name": "season 2",
         "type": "bar",
         "uid": "cbf61c5c-1bc6-44ea-82e2-8defea0a25e9",
         "x": [
          1,
          2,
          3,
          4,
          5
         ],
         "xaxis": "x2",
         "y": [
          25,
          43,
          60,
          60,
          70
         ],
         "yaxis": "y"
        },
        {
         "marker": {
          "color": "#afb42b"
         },
         "name": "season 3",
         "type": "bar",
         "uid": "2eb5943a-a233-4f9d-9cd6-3719a1ffdc68",
         "x": [
          1,
          2,
          3,
          4,
          5
         ],
         "xaxis": "x",
         "y": [
          21,
          32,
          43,
          54,
          32
         ],
         "yaxis": "y2"
        },
        {
         "marker": {
          "color": "#0288d1"
         },
         "name": "season 4",
         "type": "bar",
         "uid": "0118e2db-f276-4860-9b34-f00cd09fc2c2",
         "x": [
          1,
          2,
          3,
          4,
          5
         ],
         "xaxis": "x2",
         "y": [
          25,
          43,
          60,
          60,
          70
         ],
         "yaxis": "y2"
        }
       ],
       "layout": {
        "grid": {
         "columns": 2,
         "rows": 2
        },
        "xaxis": {
         "rangeslider": {
          "visible": false
         }
        }
       }
      },
      "text/html": [
       "<div>\n",
       "        \n",
       "        \n",
       "            <div id=\"571dad46-52e3-4d1e-86c8-ee8238a298b6\" class=\"plotly-graph-div\" style=\"height:525px; width:100%;\"></div>\n",
       "            <script type=\"text/javascript\">\n",
       "                require([\"plotly\"], function(Plotly) {\n",
       "                    window.PLOTLYENV=window.PLOTLYENV || {};\n",
       "                    window.PLOTLYENV.BASE_URL='https://plot.ly';\n",
       "                    \n",
       "                if (document.getElementById(\"571dad46-52e3-4d1e-86c8-ee8238a298b6\")) {\n",
       "                    Plotly.newPlot(\n",
       "                        '571dad46-52e3-4d1e-86c8-ee8238a298b6',\n",
       "                        [{\"marker\": {\"color\": \"#c2185b\"}, \"name\": \"season 1\", \"type\": \"bar\", \"uid\": \"2c78b6c7-e375-4483-ae6a-6b08289bc762\", \"x\": [1, 2, 3, 4, 5], \"xaxis\": \"x\", \"y\": [21, 32, 43, 54, 32], \"yaxis\": \"y\"}, {\"marker\": {\"color\": \"#0097a7\"}, \"name\": \"season 2\", \"type\": \"bar\", \"uid\": \"de497679-e8e0-40a8-a893-ac13a63ba2e1\", \"x\": [1, 2, 3, 4, 5], \"xaxis\": \"x2\", \"y\": [25, 43, 60, 60, 70], \"yaxis\": \"y\"}, {\"marker\": {\"color\": \"#afb42b\"}, \"name\": \"season 3\", \"type\": \"bar\", \"uid\": \"93be2677-adc8-4af1-8087-b9a4315e858e\", \"x\": [1, 2, 3, 4, 5], \"xaxis\": \"x\", \"y\": [21, 32, 43, 54, 32], \"yaxis\": \"y2\"}, {\"marker\": {\"color\": \"#0288d1\"}, \"name\": \"season 4\", \"type\": \"bar\", \"uid\": \"9be597a7-15f0-4331-81af-e96e4353891b\", \"x\": [1, 2, 3, 4, 5], \"xaxis\": \"x2\", \"y\": [25, 43, 60, 60, 70], \"yaxis\": \"y2\"}],\n",
       "                        {\"grid\": {\"columns\": 2, \"rows\": 2}, \"xaxis\": {\"rangeslider\": {\"visible\": false}}},\n",
       "                        {\"showLink\": false, \"linkText\": \"Export to plot.ly\", \"plotlyServerURL\": \"https://plot.ly\", \"responsive\": true}\n",
       "                    ).then(function(){\n",
       "                            \n",
       "var gd = document.getElementById('571dad46-52e3-4d1e-86c8-ee8238a298b6');\n",
       "var x = new MutationObserver(function (mutations, observer) {{\n",
       "        var display = window.getComputedStyle(gd).display;\n",
       "        if (!display || display === 'none') {{\n",
       "            console.log([gd, 'removed!']);\n",
       "            Plotly.purge(gd);\n",
       "            observer.disconnect();\n",
       "        }}\n",
       "}});\n",
       "\n",
       "// Listen for the removal of the full notebook cells\n",
       "var notebookContainer = gd.closest('#notebook-container');\n",
       "if (notebookContainer) {{\n",
       "    x.observe(notebookContainer, {childList: true});\n",
       "}}\n",
       "\n",
       "// Listen for the clearing of the current output cell\n",
       "var outputEl = gd.closest('.output');\n",
       "if (outputEl) {{\n",
       "    x.observe(outputEl, {childList: true});\n",
       "}}\n",
       "\n",
       "                        })\n",
       "                };\n",
       "                });\n",
       "            </script>\n",
       "        </div>"
      ]
     },
     "metadata": {},
     "output_type": "display_data"
    }
   ],
   "source": [
    "df = dict(x=[1,2,3,4,5],y=[21,32,43,54,32],y2=[23,34,50,60,60])\n",
    "df2 = dict(x=[1,2,3,4,5],y=[23,35,43,34,22],y2=[25,43,60,60,70])\n",
    "\n",
    "bar = lp.bar(x='x', y='y', df=df, name='season 1', color='#c2185b')\n",
    "bar1 = lp.bar(x='x', y='y2', df=df2, name='season 2', color='#0097a7')\n",
    "bar2 = lp.bar(x='x', y='y', df=df, name='season 3', color='#afb42b')\n",
    "bar3 = lp.bar(x='x', y='y2', df=df2, name='season 4', color='#0288d1')\n",
    "lp.plot([bar,bar1,bar2,bar3], rows=2)"
   ]
  },
  {
   "cell_type": "code",
   "execution_count": 5,
   "metadata": {},
   "outputs": [
    {
     "data": {
      "application/vnd.plotly.v1+json": {
       "config": {
        "linkText": "Export to plot.ly",
        "plotlyServerURL": "https://plot.ly",
        "responsive": true,
        "showLink": false
       },
       "data": [
        {
         "marker": {
          "color": "#c2185b"
         },
         "name": "season 1",
         "type": "bar",
         "uid": "8a769ce2-1740-45d5-9264-8d68d2d8a274",
         "x": [
          1,
          2,
          3,
          4,
          5
         ],
         "xaxis": "x",
         "y": [
          21,
          32,
          43,
          54,
          32
         ],
         "yaxis": "y"
        },
        {
         "marker": {
          "color": "#0097a7"
         },
         "name": "season 2",
         "type": "bar",
         "uid": "6e3f84d2-428a-43c6-9690-cbc688cb6050",
         "x": [
          1,
          2,
          3,
          4,
          5
         ],
         "xaxis": "x",
         "y": [
          25,
          43,
          60,
          60,
          70
         ],
         "yaxis": "y"
        },
        {
         "marker": {
          "color": "#afb42b"
         },
         "name": "season 3",
         "type": "bar",
         "uid": "4b8d429d-ba66-4eee-941e-973b2d85682b",
         "x": [
          1,
          2,
          3,
          4,
          5
         ],
         "xaxis": "x2",
         "y": [
          21,
          32,
          43,
          54,
          32
         ],
         "yaxis": "y"
        },
        {
         "marker": {
          "color": "#0288d1"
         },
         "name": "season 4",
         "type": "bar",
         "uid": "776129d4-8f50-49d8-88fa-34fe7a6ce9f0",
         "x": [
          1,
          2,
          3,
          4,
          5
         ],
         "xaxis": "x2",
         "y": [
          25,
          43,
          60,
          60,
          70
         ],
         "yaxis": "y"
        }
       ],
       "layout": {
        "barmode": "stack",
        "grid": {
         "columns": 2,
         "rows": 1
        },
        "xaxis": {
         "rangeslider": {
          "visible": false
         }
        }
       }
      },
      "text/html": [
       "<div>\n",
       "        \n",
       "        \n",
       "            <div id=\"9d34e8c6-804a-4c61-a172-78bf727201f8\" class=\"plotly-graph-div\" style=\"height:525px; width:100%;\"></div>\n",
       "            <script type=\"text/javascript\">\n",
       "                require([\"plotly\"], function(Plotly) {\n",
       "                    window.PLOTLYENV=window.PLOTLYENV || {};\n",
       "                    window.PLOTLYENV.BASE_URL='https://plot.ly';\n",
       "                    \n",
       "                if (document.getElementById(\"9d34e8c6-804a-4c61-a172-78bf727201f8\")) {\n",
       "                    Plotly.newPlot(\n",
       "                        '9d34e8c6-804a-4c61-a172-78bf727201f8',\n",
       "                        [{\"marker\": {\"color\": \"#c2185b\"}, \"name\": \"season 1\", \"type\": \"bar\", \"uid\": \"e784de44-0da5-436c-a628-ad22975bce4c\", \"x\": [1, 2, 3, 4, 5], \"xaxis\": \"x\", \"y\": [21, 32, 43, 54, 32], \"yaxis\": \"y\"}, {\"marker\": {\"color\": \"#0097a7\"}, \"name\": \"season 2\", \"type\": \"bar\", \"uid\": \"6e5b0805-8f9b-4689-ae6a-da82ff147471\", \"x\": [1, 2, 3, 4, 5], \"xaxis\": \"x\", \"y\": [25, 43, 60, 60, 70], \"yaxis\": \"y\"}, {\"marker\": {\"color\": \"#afb42b\"}, \"name\": \"season 3\", \"type\": \"bar\", \"uid\": \"16853ada-0dd6-4301-9ccb-d18d9d073c0a\", \"x\": [1, 2, 3, 4, 5], \"xaxis\": \"x2\", \"y\": [21, 32, 43, 54, 32], \"yaxis\": \"y\"}, {\"marker\": {\"color\": \"#0288d1\"}, \"name\": \"season 4\", \"type\": \"bar\", \"uid\": \"198c0c3c-733b-4caf-af0c-6eb9b2b492d9\", \"x\": [1, 2, 3, 4, 5], \"xaxis\": \"x2\", \"y\": [25, 43, 60, 60, 70], \"yaxis\": \"y\"}],\n",
       "                        {\"barmode\": \"stack\", \"grid\": {\"columns\": 2, \"rows\": 1}, \"xaxis\": {\"rangeslider\": {\"visible\": false}}},\n",
       "                        {\"showLink\": false, \"linkText\": \"Export to plot.ly\", \"plotlyServerURL\": \"https://plot.ly\", \"responsive\": true}\n",
       "                    ).then(function(){\n",
       "                            \n",
       "var gd = document.getElementById('9d34e8c6-804a-4c61-a172-78bf727201f8');\n",
       "var x = new MutationObserver(function (mutations, observer) {{\n",
       "        var display = window.getComputedStyle(gd).display;\n",
       "        if (!display || display === 'none') {{\n",
       "            console.log([gd, 'removed!']);\n",
       "            Plotly.purge(gd);\n",
       "            observer.disconnect();\n",
       "        }}\n",
       "}});\n",
       "\n",
       "// Listen for the removal of the full notebook cells\n",
       "var notebookContainer = gd.closest('#notebook-container');\n",
       "if (notebookContainer) {{\n",
       "    x.observe(notebookContainer, {childList: true});\n",
       "}}\n",
       "\n",
       "// Listen for the clearing of the current output cell\n",
       "var outputEl = gd.closest('.output');\n",
       "if (outputEl) {{\n",
       "    x.observe(outputEl, {childList: true});\n",
       "}}\n",
       "\n",
       "                        })\n",
       "                };\n",
       "                });\n",
       "            </script>\n",
       "        </div>"
      ]
     },
     "metadata": {},
     "output_type": "display_data"
    }
   ],
   "source": [
    "# subplot with grouped stack bar\n",
    "lp.plot([[bar,bar1],[bar2,bar3]], cols=2, layout=dict(barmode='stack'))"
   ]
  },
  {
   "cell_type": "code",
   "execution_count": 6,
   "metadata": {},
   "outputs": [
    {
     "data": {
      "application/vnd.plotly.v1+json": {
       "config": {
        "linkText": "Export to plot.ly",
        "plotlyServerURL": "https://plot.ly",
        "responsive": true,
        "showLink": false
       },
       "data": [
        {
         "domain": {
          "column": 0,
          "row": 0
         },
         "hole": 0,
         "labels": [
          1,
          2,
          3,
          4,
          5
         ],
         "text": [
          1,
          2,
          3,
          4,
          5
         ],
         "type": "pie",
         "uid": "e0d89baa-ef3e-4971-834f-4d31a59f0219",
         "values": [
          21,
          32,
          43,
          54,
          32
         ]
        },
        {
         "domain": {
          "column": 1,
          "row": 0
         },
         "hole": 0.2,
         "labels": [
          1,
          2,
          3,
          4,
          5
         ],
         "text": [
          1,
          2,
          3,
          4,
          5
         ],
         "type": "pie",
         "uid": "20361196-af28-487f-8268-eabfdb8aca7a",
         "values": [
          21,
          32,
          43,
          54,
          32
         ]
        },
        {
         "domain": {
          "column": 2,
          "row": 0
         },
         "hole": 0.4,
         "labels": [
          1,
          2,
          3,
          4,
          5
         ],
         "text": [
          1,
          2,
          3,
          4,
          5
         ],
         "type": "pie",
         "uid": "ca8fb859-b0a3-4d7a-9c31-24c6cd6936c9",
         "values": [
          21,
          32,
          43,
          54,
          32
         ]
        }
       ],
       "layout": {
        "grid": {
         "columns": 3,
         "rows": 1
        },
        "xaxis": {
         "rangeslider": {
          "visible": false
         }
        }
       }
      },
      "text/html": [
       "<div>\n",
       "        \n",
       "        \n",
       "            <div id=\"e194cd30-5f71-45e2-97ed-a0d0adf2c664\" class=\"plotly-graph-div\" style=\"height:525px; width:100%;\"></div>\n",
       "            <script type=\"text/javascript\">\n",
       "                require([\"plotly\"], function(Plotly) {\n",
       "                    window.PLOTLYENV=window.PLOTLYENV || {};\n",
       "                    window.PLOTLYENV.BASE_URL='https://plot.ly';\n",
       "                    \n",
       "                if (document.getElementById(\"e194cd30-5f71-45e2-97ed-a0d0adf2c664\")) {\n",
       "                    Plotly.newPlot(\n",
       "                        'e194cd30-5f71-45e2-97ed-a0d0adf2c664',\n",
       "                        [{\"domain\": {\"column\": 0, \"row\": 0}, \"hole\": 0, \"labels\": [1, 2, 3, 4, 5], \"text\": [1, 2, 3, 4, 5], \"type\": \"pie\", \"uid\": \"f3058a9a-b38c-4cd2-9b8e-130d5b450aac\", \"values\": [21, 32, 43, 54, 32]}, {\"domain\": {\"column\": 1, \"row\": 0}, \"hole\": 0.2, \"labels\": [1, 2, 3, 4, 5], \"text\": [1, 2, 3, 4, 5], \"type\": \"pie\", \"uid\": \"46b71075-9d0a-4371-b80f-c69ffa5a43e8\", \"values\": [21, 32, 43, 54, 32]}, {\"domain\": {\"column\": 2, \"row\": 0}, \"hole\": 0.4, \"labels\": [1, 2, 3, 4, 5], \"text\": [1, 2, 3, 4, 5], \"type\": \"pie\", \"uid\": \"4f7d6515-9381-4a0a-9dea-de62b0078f52\", \"values\": [21, 32, 43, 54, 32]}],\n",
       "                        {\"grid\": {\"columns\": 3, \"rows\": 1}, \"xaxis\": {\"rangeslider\": {\"visible\": false}}},\n",
       "                        {\"showLink\": false, \"linkText\": \"Export to plot.ly\", \"plotlyServerURL\": \"https://plot.ly\", \"responsive\": true}\n",
       "                    ).then(function(){\n",
       "                            \n",
       "var gd = document.getElementById('e194cd30-5f71-45e2-97ed-a0d0adf2c664');\n",
       "var x = new MutationObserver(function (mutations, observer) {{\n",
       "        var display = window.getComputedStyle(gd).display;\n",
       "        if (!display || display === 'none') {{\n",
       "            console.log([gd, 'removed!']);\n",
       "            Plotly.purge(gd);\n",
       "            observer.disconnect();\n",
       "        }}\n",
       "}});\n",
       "\n",
       "// Listen for the removal of the full notebook cells\n",
       "var notebookContainer = gd.closest('#notebook-container');\n",
       "if (notebookContainer) {{\n",
       "    x.observe(notebookContainer, {childList: true});\n",
       "}}\n",
       "\n",
       "// Listen for the clearing of the current output cell\n",
       "var outputEl = gd.closest('.output');\n",
       "if (outputEl) {{\n",
       "    x.observe(outputEl, {childList: true});\n",
       "}}\n",
       "\n",
       "                        })\n",
       "                };\n",
       "                });\n",
       "            </script>\n",
       "        </div>"
      ]
     },
     "metadata": {},
     "output_type": "display_data"
    }
   ],
   "source": [
    "# subplot with pie charts\n",
    "pie = lp.pie(x='x',y='y',df=df)\n",
    "pie1 = lp.pie(x='x',y='y',df=df, hole=0.2)\n",
    "pie2 = lp.pie(x='x',y='y',df=df, hole=0.4)\n",
    "lp.plot([pie,pie1,pie2],cols=3)"
   ]
  },
  {
   "cell_type": "code",
   "execution_count": 7,
   "metadata": {},
   "outputs": [
    {
     "data": {
      "application/vnd.plotly.v1+json": {
       "config": {
        "linkText": "Export to plot.ly",
        "plotlyServerURL": "https://plot.ly",
        "responsive": true,
        "showLink": false
       },
       "data": [
        {
         "type": "box",
         "uid": "d7f64738-0b52-457b-8563-b3a96b80c3e8",
         "y": [
          21,
          32,
          43,
          54,
          32
         ]
        },
        {
         "type": "box",
         "uid": "97ce22d5-2cda-4e98-8837-f48ea324341c",
         "y": [
          23,
          34,
          50,
          60,
          60
         ]
        },
        {
         "type": "box",
         "uid": "cfda4d70-f54e-486f-bdda-0a5fe22cf4d1",
         "y": [
          23,
          35,
          43,
          34,
          22
         ]
        },
        {
         "type": "box",
         "uid": "af260362-4b01-4e9c-89c3-bd1a4631814d",
         "y": [
          25,
          43,
          60,
          60,
          70
         ]
        }
       ],
       "layout": {
        "xaxis": {
         "rangeslider": {
          "visible": false
         }
        }
       }
      },
      "text/html": [
       "<div>\n",
       "        \n",
       "        \n",
       "            <div id=\"ae5b9f44-9f0b-47b0-a27a-cd9806e2dd43\" class=\"plotly-graph-div\" style=\"height:525px; width:100%;\"></div>\n",
       "            <script type=\"text/javascript\">\n",
       "                require([\"plotly\"], function(Plotly) {\n",
       "                    window.PLOTLYENV=window.PLOTLYENV || {};\n",
       "                    window.PLOTLYENV.BASE_URL='https://plot.ly';\n",
       "                    \n",
       "                if (document.getElementById(\"ae5b9f44-9f0b-47b0-a27a-cd9806e2dd43\")) {\n",
       "                    Plotly.newPlot(\n",
       "                        'ae5b9f44-9f0b-47b0-a27a-cd9806e2dd43',\n",
       "                        [{\"type\": \"box\", \"uid\": \"6f708e19-0c4f-408d-b866-f01898554552\", \"y\": [21, 32, 43, 54, 32]}, {\"type\": \"box\", \"uid\": \"f970d4af-c823-46e9-af49-44d3fb935703\", \"y\": [23, 34, 50, 60, 60]}, {\"type\": \"box\", \"uid\": \"b7f6e555-7312-476d-8b2b-c1a4adc537d5\", \"y\": [23, 35, 43, 34, 22]}, {\"type\": \"box\", \"uid\": \"1548696c-6ba1-4268-88e4-08c6b19e741b\", \"y\": [25, 43, 60, 60, 70]}],\n",
       "                        {\"xaxis\": {\"rangeslider\": {\"visible\": false}}},\n",
       "                        {\"showLink\": false, \"linkText\": \"Export to plot.ly\", \"plotlyServerURL\": \"https://plot.ly\", \"responsive\": true}\n",
       "                    ).then(function(){\n",
       "                            \n",
       "var gd = document.getElementById('ae5b9f44-9f0b-47b0-a27a-cd9806e2dd43');\n",
       "var x = new MutationObserver(function (mutations, observer) {{\n",
       "        var display = window.getComputedStyle(gd).display;\n",
       "        if (!display || display === 'none') {{\n",
       "            console.log([gd, 'removed!']);\n",
       "            Plotly.purge(gd);\n",
       "            observer.disconnect();\n",
       "        }}\n",
       "}});\n",
       "\n",
       "// Listen for the removal of the full notebook cells\n",
       "var notebookContainer = gd.closest('#notebook-container');\n",
       "if (notebookContainer) {{\n",
       "    x.observe(notebookContainer, {childList: true});\n",
       "}}\n",
       "\n",
       "// Listen for the clearing of the current output cell\n",
       "var outputEl = gd.closest('.output');\n",
       "if (outputEl) {{\n",
       "    x.observe(outputEl, {childList: true});\n",
       "}}\n",
       "\n",
       "                        })\n",
       "                };\n",
       "                });\n",
       "            </script>\n",
       "        </div>"
      ]
     },
     "metadata": {},
     "output_type": "display_data"
    }
   ],
   "source": [
    "box = lp.box(y='y',df=df)\n",
    "box1 = lp.box(y='y2',df=df)\n",
    "box2 = lp.box(y='y',df=df2)\n",
    "box3 = lp.box(y='y2',df=df2)\n",
    "lp.plot([box,box1,box2,box3])"
   ]
  },
  {
   "cell_type": "code",
   "execution_count": 8,
   "metadata": {},
   "outputs": [
    {
     "data": {
      "application/vnd.plotly.v1+json": {
       "config": {
        "linkText": "Export to plot.ly",
        "plotlyServerURL": "https://plot.ly",
        "responsive": true,
        "showLink": false
       },
       "data": [
        {
         "marker": {
          "color": [
           23,
           34,
           50,
           60,
           60
          ],
          "colorscale": "Viridis",
          "opacity": 0.8
         },
         "mode": "markers",
         "name": "y",
         "type": "scatter3d",
         "uid": "1fb94fc4-eefc-4548-9584-bd104944045e",
         "x": [
          1,
          2,
          3,
          4,
          5
         ],
         "y": [
          21,
          32,
          43,
          54,
          32
         ],
         "z": [
          23,
          34,
          50,
          60,
          60
         ]
        }
       ],
       "layout": {
        "margin": {
         "b": 0,
         "l": 0,
         "r": 0,
         "t": 0
        },
        "xaxis": {
         "rangeslider": {
          "visible": false
         }
        }
       }
      },
      "text/html": [
       "<div>\n",
       "        \n",
       "        \n",
       "            <div id=\"f27093d4-24fe-4f7d-a6f7-5362bce2e6f4\" class=\"plotly-graph-div\" style=\"height:525px; width:100%;\"></div>\n",
       "            <script type=\"text/javascript\">\n",
       "                require([\"plotly\"], function(Plotly) {\n",
       "                    window.PLOTLYENV=window.PLOTLYENV || {};\n",
       "                    window.PLOTLYENV.BASE_URL='https://plot.ly';\n",
       "                    \n",
       "                if (document.getElementById(\"f27093d4-24fe-4f7d-a6f7-5362bce2e6f4\")) {\n",
       "                    Plotly.newPlot(\n",
       "                        'f27093d4-24fe-4f7d-a6f7-5362bce2e6f4',\n",
       "                        [{\"marker\": {\"color\": [23, 34, 50, 60, 60], \"colorscale\": \"Viridis\", \"opacity\": 0.8}, \"mode\": \"markers\", \"name\": \"y\", \"type\": \"scatter3d\", \"uid\": \"3d4a1502-64a5-401b-9d69-f7036b238d64\", \"x\": [1, 2, 3, 4, 5], \"y\": [21, 32, 43, 54, 32], \"z\": [23, 34, 50, 60, 60]}],\n",
       "                        {\"margin\": {\"b\": 0, \"l\": 0, \"r\": 0, \"t\": 0}, \"xaxis\": {\"rangeslider\": {\"visible\": false}}},\n",
       "                        {\"showLink\": false, \"linkText\": \"Export to plot.ly\", \"plotlyServerURL\": \"https://plot.ly\", \"responsive\": true}\n",
       "                    ).then(function(){\n",
       "                            \n",
       "var gd = document.getElementById('f27093d4-24fe-4f7d-a6f7-5362bce2e6f4');\n",
       "var x = new MutationObserver(function (mutations, observer) {{\n",
       "        var display = window.getComputedStyle(gd).display;\n",
       "        if (!display || display === 'none') {{\n",
       "            console.log([gd, 'removed!']);\n",
       "            Plotly.purge(gd);\n",
       "            observer.disconnect();\n",
       "        }}\n",
       "}});\n",
       "\n",
       "// Listen for the removal of the full notebook cells\n",
       "var notebookContainer = gd.closest('#notebook-container');\n",
       "if (notebookContainer) {{\n",
       "    x.observe(notebookContainer, {childList: true});\n",
       "}}\n",
       "\n",
       "// Listen for the clearing of the current output cell\n",
       "var outputEl = gd.closest('.output');\n",
       "if (outputEl) {{\n",
       "    x.observe(outputEl, {childList: true});\n",
       "}}\n",
       "\n",
       "                        })\n",
       "                };\n",
       "                });\n",
       "            </script>\n",
       "        </div>"
      ]
     },
     "metadata": {},
     "output_type": "display_data"
    }
   ],
   "source": [
    "df = dict(x=[1,2,3,4,5],y=[21,32,43,54,32],z=[23,34,50,60,60])\n",
    "\n",
    "scatter3d = lp.scatter3d(x='x',y='y',z='z', df=df, cmap='Viridis')\n",
    "lp.plot(scatter3d, no_padding=True)"
   ]
  },
  {
   "cell_type": "code",
   "execution_count": 10,
   "metadata": {
    "scrolled": false
   },
   "outputs": [
    {
     "data": {
      "application/vnd.plotly.v1+json": {
       "config": {
        "linkText": "Export to plot.ly",
        "plotlyServerURL": "https://plot.ly",
        "responsive": true,
        "showLink": false
       },
       "data": [
        {
         "mode": "markers",
         "name": "y",
         "type": "scatter",
         "uid": "75373e55-5324-43dd-b930-75e3944ffae7",
         "x": [
          1,
          2,
          3,
          4,
          5
         ],
         "y": [
          21,
          32,
          43,
          54,
          32
         ]
        },
        {
         "mode": "markers",
         "name": "y2",
         "type": "scatter",
         "uid": "d8b6f550-1254-46f3-87fd-a8dd368bf019",
         "x": [
          1,
          2,
          3,
          4,
          5
         ],
         "y": [
          23,
          34,
          50,
          60,
          60
         ]
        }
       ],
       "layout": {
        "updatemenus": [
         {
          "buttons": [
           {
            "args": [
             {
              "x": [
               [
                1,
                2,
                3,
                4,
                5
               ],
               [
                1,
                2,
                3,
                4,
                5
               ]
              ],
              "y": [
               [
                21,
                32,
                43,
                54,
                32
               ],
               [
                23,
                34,
                50,
                60,
                60
               ]
              ]
             }
            ],
            "label": "1",
            "method": "update"
           },
           {
            "args": [
             {
              "x": [
               [
                1,
                2,
                3,
                4,
                5
               ],
               [
                1,
                2,
                3,
                4,
                5
               ]
              ],
              "y": [
               [
                23,
                35,
                43,
                34,
                22
               ],
               [
                25,
                43,
                60,
                60,
                70
               ]
              ]
             }
            ],
            "label": "2",
            "method": "update"
           }
          ]
         }
        ]
       }
      },
      "text/html": [
       "<div>\n",
       "        \n",
       "        \n",
       "            <div id=\"160ffa0a-68fc-4e97-b8c0-349a0c0db5bf\" class=\"plotly-graph-div\" style=\"height:525px; width:100%;\"></div>\n",
       "            <script type=\"text/javascript\">\n",
       "                require([\"plotly\"], function(Plotly) {\n",
       "                    window.PLOTLYENV=window.PLOTLYENV || {};\n",
       "                    window.PLOTLYENV.BASE_URL='https://plot.ly';\n",
       "                    \n",
       "                if (document.getElementById(\"160ffa0a-68fc-4e97-b8c0-349a0c0db5bf\")) {\n",
       "                    Plotly.newPlot(\n",
       "                        '160ffa0a-68fc-4e97-b8c0-349a0c0db5bf',\n",
       "                        [{\"mode\": \"markers\", \"name\": \"y\", \"type\": \"scatter\", \"uid\": \"a792eced-cf44-49ce-890a-d552e929eb91\", \"x\": [1, 2, 3, 4, 5], \"y\": [21, 32, 43, 54, 32]}, {\"mode\": \"markers\", \"name\": \"y2\", \"type\": \"scatter\", \"uid\": \"247638b8-1631-4095-977a-c246fb47d11c\", \"x\": [1, 2, 3, 4, 5], \"y\": [23, 34, 50, 60, 60]}],\n",
       "                        {\"updatemenus\": [{\"buttons\": [{\"args\": [{\"x\": [[1, 2, 3, 4, 5], [1, 2, 3, 4, 5]], \"y\": [[21, 32, 43, 54, 32], [23, 34, 50, 60, 60]]}], \"label\": \"1\", \"method\": \"update\"}, {\"args\": [{\"x\": [[1, 2, 3, 4, 5], [1, 2, 3, 4, 5]], \"y\": [[23, 35, 43, 34, 22], [25, 43, 60, 60, 70]]}], \"label\": \"2\", \"method\": \"update\"}]}]},\n",
       "                        {\"showLink\": false, \"linkText\": \"Export to plot.ly\", \"plotlyServerURL\": \"https://plot.ly\", \"responsive\": true}\n",
       "                    ).then(function(){\n",
       "                            \n",
       "var gd = document.getElementById('160ffa0a-68fc-4e97-b8c0-349a0c0db5bf');\n",
       "var x = new MutationObserver(function (mutations, observer) {{\n",
       "        var display = window.getComputedStyle(gd).display;\n",
       "        if (!display || display === 'none') {{\n",
       "            console.log([gd, 'removed!']);\n",
       "            Plotly.purge(gd);\n",
       "            observer.disconnect();\n",
       "        }}\n",
       "}});\n",
       "\n",
       "// Listen for the removal of the full notebook cells\n",
       "var notebookContainer = gd.closest('#notebook-container');\n",
       "if (notebookContainer) {{\n",
       "    x.observe(notebookContainer, {childList: true});\n",
       "}}\n",
       "\n",
       "// Listen for the clearing of the current output cell\n",
       "var outputEl = gd.closest('.output');\n",
       "if (outputEl) {{\n",
       "    x.observe(outputEl, {childList: true});\n",
       "}}\n",
       "\n",
       "                        })\n",
       "                };\n",
       "                });\n",
       "            </script>\n",
       "        </div>"
      ]
     },
     "metadata": {},
     "output_type": "display_data"
    },
    {
     "data": {
      "application/vnd.plotly.v1+json": {
       "config": {
        "linkText": "Export to plot.ly",
        "plotlyServerURL": "https://plot.ly",
        "responsive": true,
        "showLink": false
       },
       "data": [
        {
         "mode": "markers",
         "name": "y",
         "type": "scatter",
         "uid": "16192737-8029-41a1-a82a-6116e7afd3ef",
         "x": [
          1,
          2,
          3,
          4,
          5
         ],
         "y": [
          21,
          32,
          43,
          54,
          32
         ]
        }
       ],
       "layout": {
        "sliders": [
         {
          "currentvalue": {
           "prefix": ""
          },
          "steps": [
           {
            "args": [
             {
              "x": [
               [
                1,
                2,
                3,
                4,
                5
               ]
              ],
              "y": [
               [
                21,
                32,
                43,
                54,
                32
               ]
              ]
             }
            ],
            "method": "update"
           },
           {
            "args": [
             {
              "x": [
               [
                1,
                2,
                3,
                4,
                5
               ]
              ],
              "y": [
               [
                23,
                34,
                50,
                60,
                60
               ]
              ]
             }
            ],
            "method": "update"
           },
           {
            "args": [
             {
              "x": [
               [
                1,
                2,
                3,
                4,
                5
               ]
              ],
              "y": [
               [
                23,
                35,
                43,
                34,
                22
               ]
              ]
             }
            ],
            "method": "update"
           },
           {
            "args": [
             {
              "x": [
               [
                1,
                2,
                3,
                4,
                5
               ]
              ],
              "y": [
               [
                25,
                43,
                60,
                60,
                70
               ]
              ]
             }
            ],
            "method": "update"
           }
          ]
         }
        ]
       }
      },
      "text/html": [
       "<div>\n",
       "        \n",
       "        \n",
       "            <div id=\"ff421999-6bbb-4e7b-b8c5-4a23c8dda387\" class=\"plotly-graph-div\" style=\"height:525px; width:100%;\"></div>\n",
       "            <script type=\"text/javascript\">\n",
       "                require([\"plotly\"], function(Plotly) {\n",
       "                    window.PLOTLYENV=window.PLOTLYENV || {};\n",
       "                    window.PLOTLYENV.BASE_URL='https://plot.ly';\n",
       "                    \n",
       "                if (document.getElementById(\"ff421999-6bbb-4e7b-b8c5-4a23c8dda387\")) {\n",
       "                    Plotly.newPlot(\n",
       "                        'ff421999-6bbb-4e7b-b8c5-4a23c8dda387',\n",
       "                        [{\"mode\": \"markers\", \"name\": \"y\", \"type\": \"scatter\", \"uid\": \"49fe673b-4f7e-4317-bf1c-11b13e218dc9\", \"x\": [1, 2, 3, 4, 5], \"y\": [21, 32, 43, 54, 32]}],\n",
       "                        {\"sliders\": [{\"currentvalue\": {\"prefix\": \"\"}, \"steps\": [{\"args\": [{\"x\": [[1, 2, 3, 4, 5]], \"y\": [[21, 32, 43, 54, 32]]}], \"method\": \"update\"}, {\"args\": [{\"x\": [[1, 2, 3, 4, 5]], \"y\": [[23, 34, 50, 60, 60]]}], \"method\": \"update\"}, {\"args\": [{\"x\": [[1, 2, 3, 4, 5]], \"y\": [[23, 35, 43, 34, 22]]}], \"method\": \"update\"}, {\"args\": [{\"x\": [[1, 2, 3, 4, 5]], \"y\": [[25, 43, 60, 60, 70]]}], \"method\": \"update\"}]}]},\n",
       "                        {\"showLink\": false, \"linkText\": \"Export to plot.ly\", \"plotlyServerURL\": \"https://plot.ly\", \"responsive\": true}\n",
       "                    ).then(function(){\n",
       "                            \n",
       "var gd = document.getElementById('ff421999-6bbb-4e7b-b8c5-4a23c8dda387');\n",
       "var x = new MutationObserver(function (mutations, observer) {{\n",
       "        var display = window.getComputedStyle(gd).display;\n",
       "        if (!display || display === 'none') {{\n",
       "            console.log([gd, 'removed!']);\n",
       "            Plotly.purge(gd);\n",
       "            observer.disconnect();\n",
       "        }}\n",
       "}});\n",
       "\n",
       "// Listen for the removal of the full notebook cells\n",
       "var notebookContainer = gd.closest('#notebook-container');\n",
       "if (notebookContainer) {{\n",
       "    x.observe(notebookContainer, {childList: true});\n",
       "}}\n",
       "\n",
       "// Listen for the clearing of the current output cell\n",
       "var outputEl = gd.closest('.output');\n",
       "if (outputEl) {{\n",
       "    x.observe(outputEl, {childList: true});\n",
       "}}\n",
       "\n",
       "                        })\n",
       "                };\n",
       "                });\n",
       "            </script>\n",
       "        </div>"
      ]
     },
     "metadata": {},
     "output_type": "display_data"
    }
   ],
   "source": [
    "df = dict(x=[1,2,3,4,5],y=[21,32,43,54,32],y2=[23,34,50,60,60])\n",
    "df2 = dict(x=[1,2,3,4,5],y=[23,35,43,34,22],y2=[25,43,60,60,70])\n",
    "\n",
    "scatter = lp.scatter(x='x',y='y',df=df)\n",
    "scatter1 = lp.scatter(x='x',y='y2',df=df)\n",
    "scatter2 = lp.scatter(x='x',y='y',df=df2)\n",
    "scatter3 = lp.scatter(x='x',y='y2',df=df2)\n",
    "\n",
    "# dropdown menu (wrap datas with two dimensional list)\n",
    "lp.dropdown([[scatter,scatter1],[scatter2,scatter3]])\n",
    "\n",
    "# slider bar\n",
    "lp.slider([[scatter],[scatter1],[scatter2],[scatter3]])"
   ]
  },
  {
   "cell_type": "code",
   "execution_count": 11,
   "metadata": {},
   "outputs": [
    {
     "data": {
      "application/vnd.plotly.v1+json": {
       "config": {
        "linkText": "Export to plot.ly",
        "plotlyServerURL": "https://plot.ly",
        "responsive": true,
        "showLink": false
       },
       "data": [
        {
         "colorscale": "Viridis",
         "type": "heatmap",
         "uid": "b3cb69de-008d-4ec9-83b4-22dd18b97993",
         "x": [
          0,
          1,
          2,
          3,
          4
         ],
         "y": [
          "origin",
          "destin",
          "count"
         ],
         "z": [
          [
           1,
           21,
           23
          ],
          [
           2,
           32,
           34
          ],
          [
           3,
           43,
           50
          ],
          [
           4,
           54,
           60
          ],
          [
           5,
           32,
           60
          ]
         ]
        }
       ],
       "layout": {
        "xaxis": {
         "rangeslider": {
          "visible": false
         }
        }
       }
      },
      "text/html": [
       "<div>\n",
       "        \n",
       "        \n",
       "            <div id=\"816d10f8-bd79-4e9e-90c0-03272bfa7c14\" class=\"plotly-graph-div\" style=\"height:525px; width:100%;\"></div>\n",
       "            <script type=\"text/javascript\">\n",
       "                require([\"plotly\"], function(Plotly) {\n",
       "                    window.PLOTLYENV=window.PLOTLYENV || {};\n",
       "                    window.PLOTLYENV.BASE_URL='https://plot.ly';\n",
       "                    \n",
       "                if (document.getElementById(\"816d10f8-bd79-4e9e-90c0-03272bfa7c14\")) {\n",
       "                    Plotly.newPlot(\n",
       "                        '816d10f8-bd79-4e9e-90c0-03272bfa7c14',\n",
       "                        [{\"colorscale\": \"Viridis\", \"type\": \"heatmap\", \"uid\": \"e6e3fd18-fc79-43a1-8b2b-717654669bcb\", \"x\": [0, 1, 2, 3, 4], \"y\": [\"origin\", \"destin\", \"count\"], \"z\": [[1, 21, 23], [2, 32, 34], [3, 43, 50], [4, 54, 60], [5, 32, 60]]}],\n",
       "                        {\"xaxis\": {\"rangeslider\": {\"visible\": false}}},\n",
       "                        {\"showLink\": false, \"linkText\": \"Export to plot.ly\", \"plotlyServerURL\": \"https://plot.ly\", \"responsive\": true}\n",
       "                    ).then(function(){\n",
       "                            \n",
       "var gd = document.getElementById('816d10f8-bd79-4e9e-90c0-03272bfa7c14');\n",
       "var x = new MutationObserver(function (mutations, observer) {{\n",
       "        var display = window.getComputedStyle(gd).display;\n",
       "        if (!display || display === 'none') {{\n",
       "            console.log([gd, 'removed!']);\n",
       "            Plotly.purge(gd);\n",
       "            observer.disconnect();\n",
       "        }}\n",
       "}});\n",
       "\n",
       "// Listen for the removal of the full notebook cells\n",
       "var notebookContainer = gd.closest('#notebook-container');\n",
       "if (notebookContainer) {{\n",
       "    x.observe(notebookContainer, {childList: true});\n",
       "}}\n",
       "\n",
       "// Listen for the clearing of the current output cell\n",
       "var outputEl = gd.closest('.output');\n",
       "if (outputEl) {{\n",
       "    x.observe(outputEl, {childList: true});\n",
       "}}\n",
       "\n",
       "                        })\n",
       "                };\n",
       "                });\n",
       "            </script>\n",
       "        </div>"
      ]
     },
     "metadata": {},
     "output_type": "display_data"
    },
    {
     "data": {
      "application/vnd.plotly.v1+json": {
       "config": {
        "linkText": "Export to plot.ly",
        "plotlyServerURL": "https://plot.ly",
        "responsive": true,
        "showLink": false
       },
       "data": [
        {
         "link": {
          "source": [
           1,
           2,
           3,
           4,
           5
          ],
          "target": [
           6,
           0,
           8,
           7,
           0
          ],
          "value": [
           23,
           34,
           50,
           60,
           60
          ]
         },
         "node": {
          "label": [
           32,
           1,
           2,
           3,
           4,
           5,
           21,
           54,
           43
          ]
         },
         "type": "sankey",
         "uid": "ea0dadbf-8d25-4541-85d3-21c8dd297143"
        }
       ],
       "layout": {
        "updatemenus": [
         {
          "buttons": [
           {
            "args": [
             {
              "link": [
               {
                "source": [
                 1,
                 2,
                 3,
                 4,
                 5
                ],
                "target": [
                 6,
                 0,
                 8,
                 7,
                 0
                ],
                "value": [
                 23,
                 34,
                 50,
                 60,
                 60
                ]
               }
              ],
              "node": [
               {
                "label": [
                 32,
                 1,
                 2,
                 3,
                 4,
                 5,
                 21,
                 54,
                 43
                ]
               }
              ]
             }
            ],
            "label": "1",
            "method": "update"
           },
           {
            "args": [
             {
              "link": [
               {
                "source": [
                 1,
                 2,
                 3,
                 4,
                 5
                ],
                "target": [
                 6,
                 0,
                 8,
                 7,
                 0
                ],
                "value": [
                 23,
                 34,
                 50,
                 60,
                 60
                ]
               }
              ],
              "node": [
               {
                "label": [
                 32,
                 1,
                 2,
                 3,
                 4,
                 5,
                 21,
                 54,
                 43
                ]
               }
              ]
             }
            ],
            "label": "2",
            "method": "update"
           }
          ]
         }
        ]
       }
      },
      "text/html": [
       "<div>\n",
       "        \n",
       "        \n",
       "            <div id=\"351b4940-0c53-4dbf-ac54-9ad6ee43d926\" class=\"plotly-graph-div\" style=\"height:525px; width:100%;\"></div>\n",
       "            <script type=\"text/javascript\">\n",
       "                require([\"plotly\"], function(Plotly) {\n",
       "                    window.PLOTLYENV=window.PLOTLYENV || {};\n",
       "                    window.PLOTLYENV.BASE_URL='https://plot.ly';\n",
       "                    \n",
       "                if (document.getElementById(\"351b4940-0c53-4dbf-ac54-9ad6ee43d926\")) {\n",
       "                    Plotly.newPlot(\n",
       "                        '351b4940-0c53-4dbf-ac54-9ad6ee43d926',\n",
       "                        [{\"link\": {\"source\": [1, 2, 3, 4, 5], \"target\": [6, 0, 8, 7, 0], \"value\": [23, 34, 50, 60, 60]}, \"node\": {\"label\": [32, 1, 2, 3, 4, 5, 21, 54, 43]}, \"type\": \"sankey\", \"uid\": \"13f6e62a-08be-4735-a42a-3d505da0d5b2\"}],\n",
       "                        {\"updatemenus\": [{\"buttons\": [{\"args\": [{\"link\": [{\"source\": [1, 2, 3, 4, 5], \"target\": [6, 0, 8, 7, 0], \"value\": [23, 34, 50, 60, 60]}], \"node\": [{\"label\": [32, 1, 2, 3, 4, 5, 21, 54, 43]}]}], \"label\": \"1\", \"method\": \"update\"}, {\"args\": [{\"link\": [{\"source\": [1, 2, 3, 4, 5], \"target\": [6, 0, 8, 7, 0], \"value\": [23, 34, 50, 60, 60]}], \"node\": [{\"label\": [32, 1, 2, 3, 4, 5, 21, 54, 43]}]}], \"label\": \"2\", \"method\": \"update\"}]}]},\n",
       "                        {\"showLink\": false, \"linkText\": \"Export to plot.ly\", \"plotlyServerURL\": \"https://plot.ly\", \"responsive\": true}\n",
       "                    ).then(function(){\n",
       "                            \n",
       "var gd = document.getElementById('351b4940-0c53-4dbf-ac54-9ad6ee43d926');\n",
       "var x = new MutationObserver(function (mutations, observer) {{\n",
       "        var display = window.getComputedStyle(gd).display;\n",
       "        if (!display || display === 'none') {{\n",
       "            console.log([gd, 'removed!']);\n",
       "            Plotly.purge(gd);\n",
       "            observer.disconnect();\n",
       "        }}\n",
       "}});\n",
       "\n",
       "// Listen for the removal of the full notebook cells\n",
       "var notebookContainer = gd.closest('#notebook-container');\n",
       "if (notebookContainer) {{\n",
       "    x.observe(notebookContainer, {childList: true});\n",
       "}}\n",
       "\n",
       "// Listen for the clearing of the current output cell\n",
       "var outputEl = gd.closest('.output');\n",
       "if (outputEl) {{\n",
       "    x.observe(outputEl, {childList: true});\n",
       "}}\n",
       "\n",
       "                        })\n",
       "                };\n",
       "                });\n",
       "            </script>\n",
       "        </div>"
      ]
     },
     "metadata": {},
     "output_type": "display_data"
    }
   ],
   "source": [
    "import pandas as pd\n",
    "\n",
    "df = pd.DataFrame(dict(origin=[1,2,3,4,5],destin=[21,32,43,54,32],count=[23,34,50,60,60]))\n",
    "# heatmap\n",
    "lp.plot(lp.heatmap(df=df, cmap='Viridis'))\n",
    "\n",
    "# sankey diagram\n",
    "sankey = lp.sankey(df=df)\n",
    "lp.dropdown([[sankey],[sankey]])"
   ]
  }
 ],
 "metadata": {
  "kernelspec": {
   "display_name": "Python 3",
   "language": "python",
   "name": "python3"
  }
 },
 "nbformat": 4,
 "nbformat_minor": 2
}
